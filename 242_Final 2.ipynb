{
 "cells": [
  {
   "cell_type": "code",
   "execution_count": 4,
   "metadata": {},
   "outputs": [],
   "source": [
    "import numpy as np\n",
    "import pandas as pd\n",
    "import matplotlib.pyplot as plt\n",
    "import statsmodels.formula.api as smf\n",
    "from sklearn.model_selection import GridSearchCV\n",
    "from sklearn.tree import DecisionTreeClassifier\n",
    "from sklearn.metrics import confusion_matrix;"
   ]
  },
  {
   "cell_type": "code",
   "execution_count": 5,
   "metadata": {},
   "outputs": [],
   "source": [
    "data = pd.read_csv('train.csv')"
   ]
  },
  {
   "cell_type": "code",
   "execution_count": 6,
   "metadata": {},
   "outputs": [
    {
     "data": {
      "text/html": [
       "<div>\n",
       "<style scoped>\n",
       "    .dataframe tbody tr th:only-of-type {\n",
       "        vertical-align: middle;\n",
       "    }\n",
       "\n",
       "    .dataframe tbody tr th {\n",
       "        vertical-align: top;\n",
       "    }\n",
       "\n",
       "    .dataframe thead th {\n",
       "        text-align: right;\n",
       "    }\n",
       "</style>\n",
       "<table border=\"1\" class=\"dataframe\">\n",
       "  <thead>\n",
       "    <tr style=\"text-align: right;\">\n",
       "      <th></th>\n",
       "      <th>Id</th>\n",
       "      <th>Product_Info_1</th>\n",
       "      <th>Product_Info_2</th>\n",
       "      <th>Product_Info_3</th>\n",
       "      <th>Product_Info_4</th>\n",
       "      <th>Product_Info_5</th>\n",
       "      <th>Product_Info_6</th>\n",
       "      <th>Product_Info_7</th>\n",
       "      <th>Ins_Age</th>\n",
       "      <th>Ht</th>\n",
       "      <th>...</th>\n",
       "      <th>Medical_Keyword_40</th>\n",
       "      <th>Medical_Keyword_41</th>\n",
       "      <th>Medical_Keyword_42</th>\n",
       "      <th>Medical_Keyword_43</th>\n",
       "      <th>Medical_Keyword_44</th>\n",
       "      <th>Medical_Keyword_45</th>\n",
       "      <th>Medical_Keyword_46</th>\n",
       "      <th>Medical_Keyword_47</th>\n",
       "      <th>Medical_Keyword_48</th>\n",
       "      <th>Response</th>\n",
       "    </tr>\n",
       "  </thead>\n",
       "  <tbody>\n",
       "    <tr>\n",
       "      <th>0</th>\n",
       "      <td>2</td>\n",
       "      <td>1</td>\n",
       "      <td>D3</td>\n",
       "      <td>10</td>\n",
       "      <td>0.076923</td>\n",
       "      <td>2</td>\n",
       "      <td>1</td>\n",
       "      <td>1</td>\n",
       "      <td>0.641791</td>\n",
       "      <td>0.581818</td>\n",
       "      <td>...</td>\n",
       "      <td>0</td>\n",
       "      <td>0</td>\n",
       "      <td>0</td>\n",
       "      <td>0</td>\n",
       "      <td>0</td>\n",
       "      <td>0</td>\n",
       "      <td>0</td>\n",
       "      <td>0</td>\n",
       "      <td>0</td>\n",
       "      <td>8</td>\n",
       "    </tr>\n",
       "    <tr>\n",
       "      <th>1</th>\n",
       "      <td>5</td>\n",
       "      <td>1</td>\n",
       "      <td>A1</td>\n",
       "      <td>26</td>\n",
       "      <td>0.076923</td>\n",
       "      <td>2</td>\n",
       "      <td>3</td>\n",
       "      <td>1</td>\n",
       "      <td>0.059701</td>\n",
       "      <td>0.600000</td>\n",
       "      <td>...</td>\n",
       "      <td>0</td>\n",
       "      <td>0</td>\n",
       "      <td>0</td>\n",
       "      <td>0</td>\n",
       "      <td>0</td>\n",
       "      <td>0</td>\n",
       "      <td>0</td>\n",
       "      <td>0</td>\n",
       "      <td>0</td>\n",
       "      <td>4</td>\n",
       "    </tr>\n",
       "    <tr>\n",
       "      <th>2</th>\n",
       "      <td>6</td>\n",
       "      <td>1</td>\n",
       "      <td>E1</td>\n",
       "      <td>26</td>\n",
       "      <td>0.076923</td>\n",
       "      <td>2</td>\n",
       "      <td>3</td>\n",
       "      <td>1</td>\n",
       "      <td>0.029851</td>\n",
       "      <td>0.745455</td>\n",
       "      <td>...</td>\n",
       "      <td>0</td>\n",
       "      <td>0</td>\n",
       "      <td>0</td>\n",
       "      <td>0</td>\n",
       "      <td>0</td>\n",
       "      <td>0</td>\n",
       "      <td>0</td>\n",
       "      <td>0</td>\n",
       "      <td>0</td>\n",
       "      <td>8</td>\n",
       "    </tr>\n",
       "    <tr>\n",
       "      <th>3</th>\n",
       "      <td>7</td>\n",
       "      <td>1</td>\n",
       "      <td>D4</td>\n",
       "      <td>10</td>\n",
       "      <td>0.487179</td>\n",
       "      <td>2</td>\n",
       "      <td>3</td>\n",
       "      <td>1</td>\n",
       "      <td>0.164179</td>\n",
       "      <td>0.672727</td>\n",
       "      <td>...</td>\n",
       "      <td>0</td>\n",
       "      <td>0</td>\n",
       "      <td>0</td>\n",
       "      <td>0</td>\n",
       "      <td>0</td>\n",
       "      <td>0</td>\n",
       "      <td>0</td>\n",
       "      <td>0</td>\n",
       "      <td>0</td>\n",
       "      <td>8</td>\n",
       "    </tr>\n",
       "    <tr>\n",
       "      <th>4</th>\n",
       "      <td>8</td>\n",
       "      <td>1</td>\n",
       "      <td>D2</td>\n",
       "      <td>26</td>\n",
       "      <td>0.230769</td>\n",
       "      <td>2</td>\n",
       "      <td>3</td>\n",
       "      <td>1</td>\n",
       "      <td>0.417910</td>\n",
       "      <td>0.654545</td>\n",
       "      <td>...</td>\n",
       "      <td>0</td>\n",
       "      <td>0</td>\n",
       "      <td>0</td>\n",
       "      <td>0</td>\n",
       "      <td>0</td>\n",
       "      <td>0</td>\n",
       "      <td>0</td>\n",
       "      <td>0</td>\n",
       "      <td>0</td>\n",
       "      <td>8</td>\n",
       "    </tr>\n",
       "  </tbody>\n",
       "</table>\n",
       "<p>5 rows × 128 columns</p>\n",
       "</div>"
      ],
      "text/plain": [
       "   Id  Product_Info_1 Product_Info_2  Product_Info_3  Product_Info_4  \\\n",
       "0   2               1             D3              10        0.076923   \n",
       "1   5               1             A1              26        0.076923   \n",
       "2   6               1             E1              26        0.076923   \n",
       "3   7               1             D4              10        0.487179   \n",
       "4   8               1             D2              26        0.230769   \n",
       "\n",
       "   Product_Info_5  Product_Info_6  Product_Info_7   Ins_Age        Ht  ...  \\\n",
       "0               2               1               1  0.641791  0.581818  ...   \n",
       "1               2               3               1  0.059701  0.600000  ...   \n",
       "2               2               3               1  0.029851  0.745455  ...   \n",
       "3               2               3               1  0.164179  0.672727  ...   \n",
       "4               2               3               1  0.417910  0.654545  ...   \n",
       "\n",
       "   Medical_Keyword_40  Medical_Keyword_41  Medical_Keyword_42  \\\n",
       "0                   0                   0                   0   \n",
       "1                   0                   0                   0   \n",
       "2                   0                   0                   0   \n",
       "3                   0                   0                   0   \n",
       "4                   0                   0                   0   \n",
       "\n",
       "   Medical_Keyword_43  Medical_Keyword_44  Medical_Keyword_45  \\\n",
       "0                   0                   0                   0   \n",
       "1                   0                   0                   0   \n",
       "2                   0                   0                   0   \n",
       "3                   0                   0                   0   \n",
       "4                   0                   0                   0   \n",
       "\n",
       "   Medical_Keyword_46  Medical_Keyword_47  Medical_Keyword_48  Response  \n",
       "0                   0                   0                   0         8  \n",
       "1                   0                   0                   0         4  \n",
       "2                   0                   0                   0         8  \n",
       "3                   0                   0                   0         8  \n",
       "4                   0                   0                   0         8  \n",
       "\n",
       "[5 rows x 128 columns]"
      ]
     },
     "execution_count": 6,
     "metadata": {},
     "output_type": "execute_result"
    }
   ],
   "source": [
    "data.head()"
   ]
  },
  {
   "cell_type": "code",
   "execution_count": 7,
   "metadata": {},
   "outputs": [
    {
     "data": {
      "text/plain": [
       "(59381, 128)"
      ]
     },
     "execution_count": 7,
     "metadata": {},
     "output_type": "execute_result"
    }
   ],
   "source": [
    "data.shape"
   ]
  },
  {
   "cell_type": "code",
   "execution_count": 8,
   "metadata": {},
   "outputs": [
    {
     "data": {
      "text/plain": [
       "8    19489\n",
       "6    11233\n",
       "7     8027\n",
       "2     6552\n",
       "1     6207\n",
       "5     5432\n",
       "4     1428\n",
       "3     1013\n",
       "Name: Response, dtype: int64"
      ]
     },
     "execution_count": 8,
     "metadata": {},
     "output_type": "execute_result"
    }
   ],
   "source": [
    "#Reset response data to get balance\n",
    "data['Response'].value_counts()"
   ]
  },
  {
   "cell_type": "code",
   "execution_count": 9,
   "metadata": {},
   "outputs": [],
   "source": [
    "data['risk'] = pd.Series([1 if x == 8 else 0 for x in data['Response']], index = data['Response'].index)"
   ]
  },
  {
   "cell_type": "code",
   "execution_count": 10,
   "metadata": {
    "scrolled": true
   },
   "outputs": [],
   "source": [
    "data.drop('Response',axis = 1, inplace = True)"
   ]
  },
  {
   "cell_type": "code",
   "execution_count": 11,
   "metadata": {},
   "outputs": [
    {
     "name": "stdout",
     "output_type": "stream",
     "text": [
      "Medical_History_10     0.990620\n",
      "Medical_History_32     0.981358\n",
      "Medical_History_24     0.935990\n",
      "Medical_History_15     0.751015\n",
      "Family_Hist_5          0.704114\n",
      "Family_Hist_3          0.576632\n",
      "Family_Hist_2          0.482579\n",
      "Insurance_History_5    0.427679\n",
      "Family_Hist_4          0.323066\n",
      "Employment_Info_6      0.182786\n",
      "Medical_History_1      0.149694\n",
      "Employment_Info_4      0.114161\n",
      "Employment_Info_1      0.000320\n",
      "dtype: float64\n"
     ]
    }
   ],
   "source": [
    "missing = data.isnull().sum()/len(data)\n",
    "print(missing[missing>0].sort_values(ascending = False))"
   ]
  },
  {
   "cell_type": "code",
   "execution_count": 12,
   "metadata": {},
   "outputs": [],
   "source": [
    "#drop missing data\n",
    "data = data.dropna(thresh=data.shape[0]*0.6,how='all',axis = 1)"
   ]
  },
  {
   "cell_type": "code",
   "execution_count": 13,
   "metadata": {},
   "outputs": [
    {
     "data": {
      "text/plain": [
       "(59381, 120)"
      ]
     },
     "execution_count": 13,
     "metadata": {},
     "output_type": "execute_result"
    }
   ],
   "source": [
    "data.shape"
   ]
  },
  {
   "cell_type": "code",
   "execution_count": 14,
   "metadata": {},
   "outputs": [],
   "source": [
    "data = data.fillna(data.mean())"
   ]
  },
  {
   "cell_type": "code",
   "execution_count": 15,
   "metadata": {},
   "outputs": [],
   "source": [
    "#drop unimportant data\n",
    "data.drop('Product_Info_2',axis = 1, inplace = True)"
   ]
  },
  {
   "cell_type": "code",
   "execution_count": 16,
   "metadata": {},
   "outputs": [],
   "source": [
    "#BMI is related to weight and height\n",
    "data.drop('BMI',axis = 1, inplace = True)"
   ]
  },
  {
   "cell_type": "code",
   "execution_count": 17,
   "metadata": {},
   "outputs": [],
   "source": [
    "data.drop('Id',axis = 1,inplace = True)"
   ]
  },
  {
   "cell_type": "code",
   "execution_count": 18,
   "metadata": {},
   "outputs": [
    {
     "data": {
      "text/plain": [
       "((41566, 117), (17815, 117))"
      ]
     },
     "execution_count": 18,
     "metadata": {},
     "output_type": "execute_result"
    }
   ],
   "source": [
    "from sklearn.model_selection import train_test_split\n",
    "train, test = train_test_split(data, test_size=0.3, random_state=99)\n",
    "train = train.reset_index(drop = True)\n",
    "test = test.reset_index(drop = True)\n",
    "train.shape, test.shape"
   ]
  },
  {
   "cell_type": "code",
   "execution_count": 19,
   "metadata": {},
   "outputs": [
    {
     "data": {
      "text/plain": [
       "0.6707830479932642"
      ]
     },
     "execution_count": 19,
     "metadata": {},
     "output_type": "execute_result"
    }
   ],
   "source": [
    "#baseline model accuracy\n",
    "ACC = 1 - np.sum(test['risk'])/len(test['risk'])\n",
    "ACC"
   ]
  },
  {
   "cell_type": "code",
   "execution_count": 20,
   "metadata": {},
   "outputs": [],
   "source": [
    "y_train = train['risk']\n",
    "X_train = train.drop(['risk'],axis = 1)\n",
    "y_test = test['risk']\n",
    "X_test = test.drop(['risk'],axis = 1)"
   ]
  },
  {
   "cell_type": "code",
   "execution_count": 21,
   "metadata": {},
   "outputs": [],
   "source": [
    "# We use LDA, CART, Random Forest, XGBoost Model in this case\n",
    "from sklearn.discriminant_analysis import LinearDiscriminantAnalysis\n",
    "from sklearn.tree import DecisionTreeClassifier\n",
    "from sklearn.ensemble import RandomForestClassifier\n",
    "from xgboost import XGBClassifier\n",
    "from sklearn.experimental import enable_halving_search_cv\n",
    "from sklearn.model_selection import HalvingRandomSearchCV, HalvingGridSearchCV\n",
    "from sklearn.metrics import accuracy_score, recall_score, confusion_matrix, precision_score\n",
    "from sklearn.metrics import roc_curve, auc\n",
    "import warnings\n",
    "# Defining the metrics function to return the result of the model\n",
    "def metrics(y_true,y_pred,y_prob):\n",
    "    cm = confusion_matrix(y_true,y_pred)\n",
    "    accuracy = accuracy_score(y_true,y_pred)\n",
    "    recall = recall_score(y_true,y_pred)\n",
    "    precision = precision_score(y_true,y_pred)\n",
    "    FPR = cm[0,1]/sum(cm[0])\n",
    "    fpr, tpr, _ = roc_curve(y_true, y_prob)\n",
    "    roc_auc = auc(fpr, tpr)\n",
    "    return [accuracy,recall,FPR,precision,roc_auc,fpr,tpr]\n",
    "# Defining the check_importance function to return the feature importance\n",
    "def check_importance(model, X_train):\n",
    "  #Checking importance of features\n",
    "    importances = model.feature_importances_\n",
    "  #List of columns and their importances\n",
    "    importance_dict = {'Feature' : list(X_train.columns),\n",
    "                    'Feature Importance' : importances}\n",
    "    importance_df = pd.DataFrame(importance_dict)\n",
    "  #Rounding it off to 2 digits as we might get exponential numbers\n",
    "    importance_df['Feature Importance'] = round(importance_df['Feature Importance'],2)\n",
    "    return importance_df.sort_values(by=['Feature Importance'],ascending=False)\n",
    "# Defining the model\n",
    "def model(x_train, y_train, x_test, y_test, model_name = 'LDA',scoring = 'accuracy'):\n",
    "    if model_name == 'LDA':\n",
    "        clf = LinearDiscriminantAnalysis()\n",
    "        clf.fit(x_train,y_train)\n",
    "        pred = clf.predict(x_test)\n",
    "        prob = clf.predict_proba(x_test)[:,1]\n",
    "        return metrics(y_test,pred,prob)\n",
    "    if model_name == 'CART':\n",
    "        clf = DecisionTreeClassifier()\n",
    "        # Tuning the hyper parameter ccp_alpha\n",
    "        grid_values = {'ccp_alpha': np.linspace(0.0, 0.002, 21),\n",
    "#                'min_samples_leaf': [3,4,5,6,7],\n",
    "#                'min_samples_split': [10,15,20,25,30],\n",
    "               'random_state': [1]}\n",
    "        # Using HalvingGridSearchCV method to tune the parameter. Faster than GridSearch\n",
    "        cv = HalvingGridSearchCV(clf,param_grid = grid_values,scoring=scoring,cv=5)\n",
    "        cv.fit(x_train,y_train)\n",
    "        # printing the best parameters of the estimator\n",
    "        print(cv.best_params_,flush=True)\n",
    "        pred = cv.best_estimator_.predict(x_test)\n",
    "        prob = cv.best_estimator_.predict_proba(x_test)[:,1]\n",
    "        # return the metrics and feature importance of the model\n",
    "        return metrics(y_test,pred,prob), check_importance(cv.best_estimator_,x_train)\n",
    "    if model_name == 'Random Forest':\n",
    "        clf = RandomForestClassifier()\n",
    "        # Tuning the hyperparameter min_sample_leaf. n_estimators and max_features can also be tuned\n",
    "        grid_values = {#'n_estimators': np.linspace(100,1000,10,dtype=int),\n",
    "#                       'max_features': np.linspace(5,50,10),\n",
    "                      'min_samples_leaf': np.linspace(1,5,5,dtype=int),\n",
    "                      'random_state': [1],\n",
    "                      'verbose': [0]}\n",
    "        cv = HalvingGridSearchCV(clf, param_grid= grid_values, scoring = scoring,cv=5)\n",
    "        cv.fit(x_train,y_train)\n",
    "        # printing the best parameters of the estimator\n",
    "        print(cv.best_params_,flush=True)\n",
    "        pred = cv.best_estimator_.predict(x_test)\n",
    "        prob = cv.best_estimator_.predict_proba(x_test)[:,1]\n",
    "        return metrics(y_test,pred,prob),check_importance(cv.best_estimator_,x_train)\n",
    "    if model_name == 'XGB':\n",
    "        clf = XGBClassifier(use_label_encoder=False)\n",
    "        # Tuning the learning rate in this case\n",
    "        grid_values = {#'n_estimators': np.linspace(100,1000,10,dtype=int),\n",
    "#                       'max_features': np.linspace(5,100,20),\n",
    "#                       'min_samples_leaf': np.linspace(2,20,10),\n",
    "                      'learning_rate': np.linspace(0.02,0.2,10),\n",
    "                      'random_state': [1],\n",
    "                      'verbosity':[0]}\n",
    "        cv = HalvingGridSearchCV(clf, param_grid=grid_values,scoring=scoring, cv=5)\n",
    "        cv.fit(x_train,y_train)\n",
    "        # printing the best parameters of the estimator\n",
    "        print(cv.best_params_,flush=True)\n",
    "        pred = cv.best_estimator_.predict(x_test)\n",
    "        prob = cv.best_estimator_.predict_proba(x_test)[:,1]\n",
    "        return metrics(y_test,pred,prob),check_importance(cv.best_estimator_,x_train)\n",
    "def plot_feature_importance(model, X_train):\n",
    "  # PLotting features vs their importance factors\n",
    "    fig = plt.figure(figsize = (15, 8))\n",
    "  # Extracting importance values\n",
    "    values =check_importance(model, X_train)[check_importance(model, X_train)['Feature Importance']>0]['Feature Importance'].values\n",
    "  # Extracting importance features\n",
    "    features = check_importance(model, X_train)[check_importance(model, X_train)['Feature Importance']>0]['Feature'].values\n",
    "    plt.bar(features, values, color ='blue',\n",
    "          width = 0.4)\n",
    "    plt.xticks( rotation='vertical')\n",
    "    plt.show()"
   ]
  },
  {
   "cell_type": "code",
   "execution_count": 19,
   "metadata": {},
   "outputs": [
    {
     "name": "stdout",
     "output_type": "stream",
     "text": [
      "{'ccp_alpha': 0.0011, 'random_state': 1}\n",
      "{'min_samples_leaf': 2, 'random_state': 1, 'verbose': 0}\n",
      "{'learning_rate': 0.12000000000000002, 'random_state': 1, 'verbosity': 0}\n"
     ]
    }
   ],
   "source": [
    "# Run the models and fit the data then make prediction and lastly evaluate\n",
    "ld_me = model(X_train,y_train,X_test,y_test,'LDA')\n",
    "cart_me, cart_fi = model(X_train,y_train,X_test,y_test,'CART')\n",
    "rf_me, rf_fi = model(X_train,y_train,X_test,y_test,'Random Forest')\n",
    "xgb_me, xgb_fi = model(X_train,y_train,X_test,y_test,'XGB')"
   ]
  },
  {
   "cell_type": "code",
   "execution_count": 20,
   "metadata": {},
   "outputs": [
    {
     "data": {
      "text/html": [
       "<div>\n",
       "<style scoped>\n",
       "    .dataframe tbody tr th:only-of-type {\n",
       "        vertical-align: middle;\n",
       "    }\n",
       "\n",
       "    .dataframe tbody tr th {\n",
       "        vertical-align: top;\n",
       "    }\n",
       "\n",
       "    .dataframe thead th {\n",
       "        text-align: right;\n",
       "    }\n",
       "</style>\n",
       "<table border=\"1\" class=\"dataframe\">\n",
       "  <thead>\n",
       "    <tr style=\"text-align: right;\">\n",
       "      <th></th>\n",
       "      <th>LDA</th>\n",
       "      <th>CART</th>\n",
       "      <th>Random Forest</th>\n",
       "      <th>XGBoost</th>\n",
       "    </tr>\n",
       "  </thead>\n",
       "  <tbody>\n",
       "    <tr>\n",
       "      <th>Accuracy</th>\n",
       "      <td>0.805782</td>\n",
       "      <td>0.802582</td>\n",
       "      <td>0.815605</td>\n",
       "      <td>0.825091</td>\n",
       "    </tr>\n",
       "    <tr>\n",
       "      <th>Recall</th>\n",
       "      <td>0.659335</td>\n",
       "      <td>0.740494</td>\n",
       "      <td>0.657971</td>\n",
       "      <td>0.742882</td>\n",
       "    </tr>\n",
       "    <tr>\n",
       "      <th>FPR</th>\n",
       "      <td>0.122343</td>\n",
       "      <td>0.166946</td>\n",
       "      <td>0.107029</td>\n",
       "      <td>0.134561</td>\n",
       "    </tr>\n",
       "    <tr>\n",
       "      <th>Precision</th>\n",
       "      <td>0.725652</td>\n",
       "      <td>0.685232</td>\n",
       "      <td>0.751070</td>\n",
       "      <td>0.730427</td>\n",
       "    </tr>\n",
       "    <tr>\n",
       "      <th>AUC</th>\n",
       "      <td>0.871432</td>\n",
       "      <td>0.855899</td>\n",
       "      <td>0.890339</td>\n",
       "      <td>0.904031</td>\n",
       "    </tr>\n",
       "  </tbody>\n",
       "</table>\n",
       "</div>"
      ],
      "text/plain": [
       "                LDA      CART  Random Forest   XGBoost\n",
       "Accuracy   0.805782  0.802582       0.815605  0.825091\n",
       "Recall     0.659335  0.740494       0.657971  0.742882\n",
       "FPR        0.122343  0.166946       0.107029  0.134561\n",
       "Precision  0.725652  0.685232       0.751070  0.730427\n",
       "AUC        0.871432  0.855899       0.890339  0.904031"
      ]
     },
     "execution_count": 20,
     "metadata": {},
     "output_type": "execute_result"
    }
   ],
   "source": [
    "# Printing out the metrics for each model\n",
    "metric_all = pd.DataFrame()\n",
    "col_name = ['LDA','CART','Random Forest','XGBoost']\n",
    "for me,name in zip([ld_me,cart_me,rf_me,xgb_me],col_name):\n",
    "    metric_all[name] = me[0:5]\n",
    "metric_all.index = ['Accuracy','Recall','FPR','Precision','AUC']\n",
    "metric_all"
   ]
  },
  {
   "cell_type": "code",
   "execution_count": 21,
   "metadata": {},
   "outputs": [
    {
     "data": {
      "image/png": "[encoded data removed]",
      "text/plain": [
       "<Figure size 1152x864 with 4 Axes>"
      ]
     },
     "metadata": {
      "needs_background": "light"
     },
     "output_type": "display_data"
    }
   ],
   "source": [
    "list=[221,222,223,224]\n",
    "plt.figure(figsize=(16, 12)) \n",
    "for me,name,i in zip([ld_me,cart_me,rf_me,xgb_me],col_name,range(4)):\n",
    "    tpr = me[-1]\n",
    "    fpr = me[-2]\n",
    "    roc_auc = me[-3]\n",
    "    a = list[i]\n",
    "    plt.subplot(a)\n",
    "    plt.title(name+' '+'ROC Curve', fontsize=18)\n",
    "    plt.xlabel('FPR', fontsize=16)\n",
    "    plt.ylabel('TPR', fontsize=16)\n",
    "    plt.xlim([-0.01, 1.01])\n",
    "    plt.ylim([-0.01, 1.01])\n",
    "    plt.plot(fpr, tpr, lw=3, label=name+'(area = {:0.2f})'.format(roc_auc))\n",
    "    plt.plot([0, 1], [0, 1], color='navy', lw=3, linestyle='--')\n",
    "    plt.legend(loc='lower right', fontsize=14)\n",
    "    plt.show"
   ]
  },
  {
   "cell_type": "code",
   "execution_count": 21,
   "metadata": {},
   "outputs": [],
   "source": [
    "#Bootstrap for final model\n",
    "import time\n",
    "def bootstrap_validation(test_data, test_label, model, metrics, sample=100, random_state=99):\n",
    "    tic = time.time()\n",
    "    n_sample = sample\n",
    "    n_metrics = 3\n",
    "    output_array=np.zeros([n_sample, n_metrics])\n",
    "    output_array[:]=np.nan\n",
    "    print(output_array.shape)\n",
    "    for bs_iter in range(n_sample):\n",
    "        bs_index = np.random.choice(test_data.index, len(test_data.index), replace=True)\n",
    "        bs_data = test_data.loc[bs_index]\n",
    "        bs_label = test_label.loc[bs_index]\n",
    "        bs_predicted = model.predict(bs_data)\n",
    "        bs_prob = model.predict_proba(bs_data)[:,1]\n",
    "        output_array[bs_iter,:] = metrics(bs_label,bs_predicted,bs_prob)[0:3]\n",
    "        if bs_iter % 20 == 0:\n",
    "            print(bs_iter, time.time()-tic)\n",
    "    output_df = pd.DataFrame(output_array)\n",
    "    return output_df"
   ]
  },
  {
   "cell_type": "code",
   "execution_count": 22,
   "metadata": {},
   "outputs": [
    {
     "name": "stdout",
     "output_type": "stream",
     "text": [
      "(100, 3)\n",
      "0 0.06268477439880371\n",
      "20 1.1571509838104248\n",
      "40 2.2557969093322754\n",
      "60 3.368259906768799\n",
      "80 4.476579904556274\n"
     ]
    }
   ],
   "source": [
    "final_model = XGBClassifier(use_label_encoder=False,learning_rate=0.12, random_state=1, verbosity=0)\n",
    "final_model.fit(X_train,y_train)\n",
    "bs_df = bootstrap_validation(X_test,y_test,final_model,metrics)"
   ]
  },
  {
   "cell_type": "code",
   "execution_count": 23,
   "metadata": {},
   "outputs": [
    {
     "data": {
      "image/png": "[encoded data removed]",
      "text/plain": [
       "<Figure size 1152x432 with 3 Axes>"
      ]
     },
     "metadata": {
      "needs_background": "light"
     },
     "output_type": "display_data"
    }
   ],
   "source": [
    "#visualization of the outcome\n",
    "fig, ax = plt.subplots(1,3,figsize = (16,6))\n",
    "for name, i in zip(['Accuracy','TPR','FPR'], range(3)):\n",
    "    ax[i].set_xlabel('Final XGBoost Model',fontsize=16)\n",
    "    ax[i].set_ylabel('count',fontsize=16)\n",
    "    ax[i].hist(bs_df[i],bins=20,edgecolor = 'black')\n",
    "    ax[i].set_title(name,fontsize=16)\n",
    "    ax[i].grid()\n",
    "fig.tight_layout()"
   ]
  },
  {
   "cell_type": "code",
   "execution_count": 24,
   "metadata": {},
   "outputs": [
    {
     "name": "stdout",
     "output_type": "stream",
     "text": [
      "The 95-percent confidence interval of acc is [-0.00633315  0.00628964]\n",
      "The 95-percent confidence interval of acc is [-0.01323232  0.01209476]\n",
      "The 95-percent confidence interval of acc is [-0.00710744  0.00552891]\n"
     ]
    }
   ],
   "source": [
    "#the confidence interval of three factors\n",
    "CI1= np.quantile(bs_df.iloc[:,0]-xgb_me[0],np.array([0.025,0.975]))\n",
    "print(\"The 95-percent confidence interval of acc is %s\" % CI1)\n",
    "CI2= np.quantile(bs_df.iloc[:,1]-xgb_me[1],np.array([0.025,0.975]))\n",
    "print(\"The 95-percent confidence interval of acc is %s\" % CI2)\n",
    "CI3= np.quantile(bs_df.iloc[:,2]-xgb_me[2],np.array([0.025,0.975]))\n",
    "print(\"The 95-percent confidence interval of acc is %s\" % CI3)"
   ]
  },
  {
   "cell_type": "code",
   "execution_count": 27,
   "metadata": {},
   "outputs": [
    {
     "data": {
      "text/html": [
       "<div>\n",
       "<style scoped>\n",
       "    .dataframe tbody tr th:only-of-type {\n",
       "        vertical-align: middle;\n",
       "    }\n",
       "\n",
       "    .dataframe tbody tr th {\n",
       "        vertical-align: top;\n",
       "    }\n",
       "\n",
       "    .dataframe thead th {\n",
       "        text-align: right;\n",
       "    }\n",
       "</style>\n",
       "<table border=\"1\" class=\"dataframe\">\n",
       "  <thead>\n",
       "    <tr style=\"text-align: right;\">\n",
       "      <th></th>\n",
       "      <th>Feature</th>\n",
       "      <th>Feature Importance</th>\n",
       "    </tr>\n",
       "  </thead>\n",
       "  <tbody>\n",
       "    <tr>\n",
       "      <th>51</th>\n",
       "      <td>Medical_History_23</td>\n",
       "      <td>0.18</td>\n",
       "    </tr>\n",
       "    <tr>\n",
       "      <th>82</th>\n",
       "      <td>Medical_Keyword_15</td>\n",
       "      <td>0.08</td>\n",
       "    </tr>\n",
       "    <tr>\n",
       "      <th>34</th>\n",
       "      <td>Medical_History_4</td>\n",
       "      <td>0.07</td>\n",
       "    </tr>\n",
       "    <tr>\n",
       "      <th>70</th>\n",
       "      <td>Medical_Keyword_3</td>\n",
       "      <td>0.05</td>\n",
       "    </tr>\n",
       "    <tr>\n",
       "      <th>8</th>\n",
       "      <td>Wt</td>\n",
       "      <td>0.05</td>\n",
       "    </tr>\n",
       "    <tr>\n",
       "      <th>90</th>\n",
       "      <td>Medical_Keyword_23</td>\n",
       "      <td>0.03</td>\n",
       "    </tr>\n",
       "    <tr>\n",
       "      <th>57</th>\n",
       "      <td>Medical_History_30</td>\n",
       "      <td>0.03</td>\n",
       "    </tr>\n",
       "    <tr>\n",
       "      <th>35</th>\n",
       "      <td>Medical_History_5</td>\n",
       "      <td>0.02</td>\n",
       "    </tr>\n",
       "    <tr>\n",
       "      <th>21</th>\n",
       "      <td>InsuredInfo_7</td>\n",
       "      <td>0.02</td>\n",
       "    </tr>\n",
       "    <tr>\n",
       "      <th>16</th>\n",
       "      <td>InsuredInfo_2</td>\n",
       "      <td>0.02</td>\n",
       "    </tr>\n",
       "    <tr>\n",
       "      <th>66</th>\n",
       "      <td>Medical_History_40</td>\n",
       "      <td>0.02</td>\n",
       "    </tr>\n",
       "    <tr>\n",
       "      <th>2</th>\n",
       "      <td>Product_Info_4</td>\n",
       "      <td>0.02</td>\n",
       "    </tr>\n",
       "    <tr>\n",
       "      <th>7</th>\n",
       "      <td>Ht</td>\n",
       "      <td>0.02</td>\n",
       "    </tr>\n",
       "    <tr>\n",
       "      <th>108</th>\n",
       "      <td>Medical_Keyword_41</td>\n",
       "      <td>0.02</td>\n",
       "    </tr>\n",
       "    <tr>\n",
       "      <th>91</th>\n",
       "      <td>Medical_Keyword_24</td>\n",
       "      <td>0.01</td>\n",
       "    </tr>\n",
       "  </tbody>\n",
       "</table>\n",
       "</div>"
      ],
      "text/plain": [
       "                Feature  Feature Importance\n",
       "51   Medical_History_23                0.18\n",
       "82   Medical_Keyword_15                0.08\n",
       "34    Medical_History_4                0.07\n",
       "70    Medical_Keyword_3                0.05\n",
       "8                    Wt                0.05\n",
       "90   Medical_Keyword_23                0.03\n",
       "57   Medical_History_30                0.03\n",
       "35    Medical_History_5                0.02\n",
       "21        InsuredInfo_7                0.02\n",
       "16        InsuredInfo_2                0.02\n",
       "66   Medical_History_40                0.02\n",
       "2        Product_Info_4                0.02\n",
       "7                    Ht                0.02\n",
       "108  Medical_Keyword_41                0.02\n",
       "91   Medical_Keyword_24                0.01"
      ]
     },
     "execution_count": 27,
     "metadata": {},
     "output_type": "execute_result"
    }
   ],
   "source": [
    "# Show the Top 15 features with greatest importance of the final model\n",
    "check_importance(final_model,X_train).head(15)"
   ]
  },
  {
   "cell_type": "code",
   "execution_count": 25,
   "metadata": {},
   "outputs": [
    {
     "data": {
      "image/png": "[encoded data removed]",
      "text/plain": [
       "<Figure size 1080x576 with 1 Axes>"
      ]
     },
     "metadata": {
      "needs_background": "light"
     },
     "output_type": "display_data"
    }
   ],
   "source": [
    "# plot the feature importance\n",
    "plot_feature_importance(final_model,X_train)"
   ]
  },
  {
   "cell_type": "code",
   "execution_count": null,
   "metadata": {},
   "outputs": [],
   "source": []
  }
 ],
 "metadata": {
  "kernelspec": {
   "display_name": "Python 3",
   "language": "python",
   "name": "python3"
  },
  "language_info": {
   "codemirror_mode": {
    "name": "ipython",
    "version": 3
   },
   "file_extension": ".py",
   "mimetype": "text/x-python",
   "name": "python",
   "nbconvert_exporter": "python",
   "pygments_lexer": "ipython3",
   "version": "3.7.4"
  }
 },
 "nbformat": 4,
 "nbformat_minor": 2
}
