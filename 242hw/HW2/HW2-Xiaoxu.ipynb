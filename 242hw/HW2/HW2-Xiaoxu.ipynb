{
 "cells": [
  {
   "cell_type": "markdown",
   "metadata": {},
   "source": [
    "# Assignment 2"
   ]
  },
  {
   "cell_type": "code",
   "execution_count": 3,
   "metadata": {},
   "outputs": [],
   "source": [
    "import numpy as np\n",
    "import pandas as pd\n",
    "import math\n",
    "import matplotlib.pyplot as plt"
   ]
  },
  {
   "cell_type": "markdown",
   "metadata": {},
   "source": [
    "# Problem 1\n"
   ]
  },
  {
   "cell_type": "markdown",
   "metadata": {},
   "source": [
    "# a)"
   ]
  },
  {
   "cell_type": "markdown",
   "metadata": {},
   "source": [
    "Pr(Y = 1 | X, Z) = $Z(\\frac{1}{1+exp(-(β_0 + β_1X + β_2Z))})$"
   ]
  },
  {
   "cell_type": "code",
   "execution_count": 4,
   "metadata": {},
   "outputs": [
    {
     "name": "stdout",
     "output_type": "stream",
     "text": [
      "0.9585128806983042\n"
     ]
    }
   ],
   "source": [
    "#X = 30, Z = 1\n",
    "P1 = 1/(1+ math.exp(-(-3.50+ 0.18*30 + 1.24*1)))\n",
    "print(P1)\n"
   ]
  },
  {
   "cell_type": "markdown",
   "metadata": {},
   "source": [
    "# b)"
   ]
  },
  {
   "cell_type": "markdown",
   "metadata": {},
   "source": [
    "## (a)\n"
   ]
  },
  {
   "cell_type": "markdown",
   "metadata": {},
   "source": [
    "$Pr(Y = 1 | X, Z) = Z(\\frac{1}{1+exp(-(α_0 + α_1X))}) + (1-Z)(\\frac{1}{1+exp(-(β_0 + β_1X))})$\n"
   ]
  },
  {
   "cell_type": "markdown",
   "metadata": {},
   "source": [
    "When Z = 1 (use Python), $Pr(Y = 1 | X, Z) = \\frac{1}{1+exp(-(α_0 + α_1X))}$\n",
    "\n",
    "When Z = 0 (use R), $Pr(Y = 1 | X, Z) = \\frac{1}{1+exp(-(β_0 + β_1X))}$\n",
    "\n",
    "This model uses different coefficients to predict different situations.\n"
   ]
  },
  {
   "cell_type": "markdown",
   "metadata": {},
   "source": [
    "## (b)"
   ]
  },
  {
   "cell_type": "markdown",
   "metadata": {},
   "source": [
    "Firstly, I will divide the data into two subsets: Python & R.\n",
    "Then I will train the two models above respectively, using these 2 subsets."
   ]
  },
  {
   "cell_type": "code",
   "execution_count": null,
   "metadata": {},
   "outputs": [],
   "source": []
  },
  {
   "cell_type": "markdown",
   "metadata": {},
   "source": [
    "## (c)"
   ]
  },
  {
   "cell_type": "code",
   "execution_count": 5,
   "metadata": {},
   "outputs": [
    {
     "data": {
      "text/plain": [
       "0.960074666047186"
      ]
     },
     "execution_count": 5,
     "metadata": {},
     "output_type": "execute_result"
    }
   ],
   "source": [
    "# Z = 1\n",
    "P2 = 1/(1+np.exp(-(-4.02+0.24*30)))\n",
    "P2"
   ]
  },
  {
   "cell_type": "markdown",
   "metadata": {},
   "source": [
    "## (d)"
   ]
  },
  {
   "cell_type": "code",
   "execution_count": 6,
   "metadata": {},
   "outputs": [
    {
     "data": {
      "text/plain": [
       "(0.5975214678305071,\n",
       " 0.6001244434119768,\n",
       " 0.6569362393085754,\n",
       " 0.5978877150922185)"
      ]
     },
     "execution_count": 6,
     "metadata": {},
     "output_type": "execute_result"
    }
   ],
   "source": [
    "py_pred_a = P1\n",
    "r_pred_a = 1/(1+ math.exp(-(-3.50+ 0.18*30 + 1.24*0)))\n",
    "py_pred_b = P2\n",
    "r_pred_b = 1 / (1 + np.exp(-(-2.85 + 0.15 * 30)))\n",
    "py_actual = 30 / 50\n",
    "r_actual = 21 / 40\n",
    "deviate_py_a = (py_pred_a - py_actual) / py_actual\n",
    "deviate_py_b = (py_pred_b - py_actual) / py_actual\n",
    "deviate_r_a = (r_pred_a - r_actual) / r_actual\n",
    "deviate_r_b = (r_pred_b - r_actual) / r_actual\n",
    "\n",
    "deviate_py_a,deviate_py_b,deviate_r_a,deviate_r_b"
   ]
  },
  {
   "cell_type": "markdown",
   "metadata": {},
   "source": [
    "0.5975214678305071 < 0.6001244434119768,\n",
    "\n",
    "0.6569362393085754 > 0.5978877150922185\n",
    "\n",
    "Model a predicts Python group better than Model b, while Model b predicts R group better.\n",
    "\n",
    "Generally, Model b predicts better than Model a, so I expect the model from part (b) to make more accurate probability predictions in future semesters."
   ]
  },
  {
   "cell_type": "markdown",
   "metadata": {},
   "source": [
    "## (e)"
   ]
  },
  {
   "cell_type": "code",
   "execution_count": 7,
   "metadata": {},
   "outputs": [
    {
     "data": {
      "text/plain": [
       "(0.1981411008728802,\n",
       " 0.2000933325589825,\n",
       " 0.08736440704625259,\n",
       " 0.04861381302926834)"
      ]
     },
     "execution_count": 7,
     "metadata": {},
     "output_type": "execute_result"
    }
   ],
   "source": [
    "py_pred_a = P1\n",
    "r_pred_a = 1/(1+ math.exp(-(-3.50+ 0.18*30 + 1.24*0)))\n",
    "py_pred_b = P2\n",
    "r_pred_b = 1 / (1 + np.exp(-(-2.85 + 0.15 * 30)))\n",
    "py_actual_1 = 8 / 10\n",
    "r_actual_1 = 4 / 5\n",
    "deviate_py_a1 = (py_pred_a - py_actual_1) / py_actual_1\n",
    "deviate_py_b1 = (py_pred_b - py_actual_1) / py_actual_1\n",
    "deviate_r_a1 = (r_pred_a - r_actual_1) / r_actual_1\n",
    "deviate_r_b1 = (r_pred_b - r_actual_1) / r_actual_1\n",
    "\n",
    "deviate_py_a1,deviate_py_b1,deviate_r_a1,deviate_r_b1"
   ]
  },
  {
   "cell_type": "markdown",
   "metadata": {},
   "source": [
    "0.1981411008728802 < 0.2000933325589825\n",
    "\n",
    "0.08736440704625259 > 0.04861381302926834\n",
    "\n",
    "Model a predicts Python group better than Model b, while Model b predicts R group better.\n",
    "\n",
    "Generally, Model b predicts better than Model a, so I expect the model from part (b) to make more accurate probability predictions in future semesters."
   ]
  },
  {
   "cell_type": "markdown",
   "metadata": {},
   "source": [
    "# Problem 2"
   ]
  },
  {
   "cell_type": "markdown",
   "metadata": {},
   "source": [
    "It is equally important to keep both FNR and FPR low. \n",
    "\n",
    "Pr(Y = 1 | X = x) = p\n",
    "\n",
    "The loss for FNR = $L_{FN}$ * Pr(Y = 1 | X = x) = $L_{FN}$ * P\n",
    "The loss for FPR = $L_{FP}$ * Pr(Y = 0 | X = x) = $L_{FP}$ * (1-p)\n",
    "\n",
    "Let $L_{FN}$ * p = $L_{FP}$ * (1-p),\n",
    "\n",
    "then p- =  $\\frac{L_{FP}}{L_{FN}+L_{FP}}$\n"
   ]
  },
  {
   "cell_type": "code",
   "execution_count": null,
   "metadata": {},
   "outputs": [],
   "source": []
  },
  {
   "cell_type": "markdown",
   "metadata": {},
   "source": [
    "# Problem 3"
   ]
  },
  {
   "cell_type": "markdown",
   "metadata": {},
   "source": [
    "# a)"
   ]
  },
  {
   "cell_type": "markdown",
   "metadata": {},
   "source": [
    "## i)"
   ]
  },
  {
   "cell_type": "code",
   "execution_count": 8,
   "metadata": {},
   "outputs": [],
   "source": [
    "import statsmodels.formula.api as smf\n"
   ]
  },
  {
   "cell_type": "code",
   "execution_count": 9,
   "metadata": {},
   "outputs": [],
   "source": [
    "fra_train = pd.read_csv('framingham_train.csv')\n",
    "fra_test = pd.read_csv('framingham_test.csv')"
   ]
  },
  {
   "cell_type": "code",
   "execution_count": 10,
   "metadata": {},
   "outputs": [
    {
     "data": {
      "text/html": [
       "<div>\n",
       "<style scoped>\n",
       "    .dataframe tbody tr th:only-of-type {\n",
       "        vertical-align: middle;\n",
       "    }\n",
       "\n",
       "    .dataframe tbody tr th {\n",
       "        vertical-align: top;\n",
       "    }\n",
       "\n",
       "    .dataframe thead th {\n",
       "        text-align: right;\n",
       "    }\n",
       "</style>\n",
       "<table border=\"1\" class=\"dataframe\">\n",
       "  <thead>\n",
       "    <tr style=\"text-align: right;\">\n",
       "      <th></th>\n",
       "      <th>male</th>\n",
       "      <th>age</th>\n",
       "      <th>education</th>\n",
       "      <th>currentSmoker</th>\n",
       "      <th>cigsPerDay</th>\n",
       "      <th>BPMeds</th>\n",
       "      <th>prevalentStroke</th>\n",
       "      <th>prevalentHyp</th>\n",
       "      <th>diabetes</th>\n",
       "      <th>totChol</th>\n",
       "      <th>sysBP</th>\n",
       "      <th>diaBP</th>\n",
       "      <th>BMI</th>\n",
       "      <th>heartRate</th>\n",
       "      <th>glucose</th>\n",
       "      <th>TenYearCHD</th>\n",
       "    </tr>\n",
       "  </thead>\n",
       "  <tbody>\n",
       "    <tr>\n",
       "      <th>0</th>\n",
       "      <td>0</td>\n",
       "      <td>41</td>\n",
       "      <td>Some high school</td>\n",
       "      <td>1</td>\n",
       "      <td>43</td>\n",
       "      <td>0</td>\n",
       "      <td>0</td>\n",
       "      <td>1</td>\n",
       "      <td>0</td>\n",
       "      <td>306</td>\n",
       "      <td>199.0</td>\n",
       "      <td>106.0</td>\n",
       "      <td>38.75</td>\n",
       "      <td>100</td>\n",
       "      <td>75</td>\n",
       "      <td>0</td>\n",
       "    </tr>\n",
       "    <tr>\n",
       "      <th>1</th>\n",
       "      <td>0</td>\n",
       "      <td>38</td>\n",
       "      <td>High school/GED</td>\n",
       "      <td>1</td>\n",
       "      <td>15</td>\n",
       "      <td>0</td>\n",
       "      <td>0</td>\n",
       "      <td>0</td>\n",
       "      <td>0</td>\n",
       "      <td>176</td>\n",
       "      <td>110.0</td>\n",
       "      <td>80.0</td>\n",
       "      <td>24.03</td>\n",
       "      <td>100</td>\n",
       "      <td>113</td>\n",
       "      <td>0</td>\n",
       "    </tr>\n",
       "    <tr>\n",
       "      <th>2</th>\n",
       "      <td>1</td>\n",
       "      <td>42</td>\n",
       "      <td>High school/GED</td>\n",
       "      <td>1</td>\n",
       "      <td>9</td>\n",
       "      <td>0</td>\n",
       "      <td>0</td>\n",
       "      <td>0</td>\n",
       "      <td>0</td>\n",
       "      <td>205</td>\n",
       "      <td>110.0</td>\n",
       "      <td>73.0</td>\n",
       "      <td>22.40</td>\n",
       "      <td>61</td>\n",
       "      <td>66</td>\n",
       "      <td>0</td>\n",
       "    </tr>\n",
       "    <tr>\n",
       "      <th>3</th>\n",
       "      <td>0</td>\n",
       "      <td>42</td>\n",
       "      <td>High school/GED</td>\n",
       "      <td>0</td>\n",
       "      <td>0</td>\n",
       "      <td>0</td>\n",
       "      <td>0</td>\n",
       "      <td>1</td>\n",
       "      <td>0</td>\n",
       "      <td>263</td>\n",
       "      <td>150.0</td>\n",
       "      <td>88.0</td>\n",
       "      <td>23.68</td>\n",
       "      <td>96</td>\n",
       "      <td>78</td>\n",
       "      <td>0</td>\n",
       "    </tr>\n",
       "    <tr>\n",
       "      <th>4</th>\n",
       "      <td>0</td>\n",
       "      <td>53</td>\n",
       "      <td>High school/GED</td>\n",
       "      <td>0</td>\n",
       "      <td>0</td>\n",
       "      <td>0</td>\n",
       "      <td>0</td>\n",
       "      <td>1</td>\n",
       "      <td>0</td>\n",
       "      <td>272</td>\n",
       "      <td>146.0</td>\n",
       "      <td>89.0</td>\n",
       "      <td>25.50</td>\n",
       "      <td>73</td>\n",
       "      <td>67</td>\n",
       "      <td>0</td>\n",
       "    </tr>\n",
       "  </tbody>\n",
       "</table>\n",
       "</div>"
      ],
      "text/plain": [
       "   male  age         education  currentSmoker  cigsPerDay  BPMeds  \\\n",
       "0     0   41  Some high school              1          43       0   \n",
       "1     0   38   High school/GED              1          15       0   \n",
       "2     1   42   High school/GED              1           9       0   \n",
       "3     0   42   High school/GED              0           0       0   \n",
       "4     0   53   High school/GED              0           0       0   \n",
       "\n",
       "   prevalentStroke  prevalentHyp  diabetes  totChol  sysBP  diaBP    BMI  \\\n",
       "0                0             1         0      306  199.0  106.0  38.75   \n",
       "1                0             0         0      176  110.0   80.0  24.03   \n",
       "2                0             0         0      205  110.0   73.0  22.40   \n",
       "3                0             1         0      263  150.0   88.0  23.68   \n",
       "4                0             1         0      272  146.0   89.0  25.50   \n",
       "\n",
       "   heartRate  glucose  TenYearCHD  \n",
       "0        100       75           0  \n",
       "1        100      113           0  \n",
       "2         61       66           0  \n",
       "3         96       78           0  \n",
       "4         73       67           0  "
      ]
     },
     "execution_count": 10,
     "metadata": {},
     "output_type": "execute_result"
    }
   ],
   "source": [
    "fra_train.head()"
   ]
  },
  {
   "cell_type": "code",
   "execution_count": 46,
   "metadata": {},
   "outputs": [
    {
     "name": "stdout",
     "output_type": "stream",
     "text": [
      "Optimization terminated successfully.\n",
      "         Current function value: 0.365281\n",
      "         Iterations 7\n",
      "                           Logit Regression Results                           \n",
      "==============================================================================\n",
      "Dep. Variable:             TenYearCHD   No. Observations:                 2560\n",
      "Model:                          Logit   Df Residuals:                     2542\n",
      "Method:                           MLE   Df Model:                           17\n",
      "Date:                Sun, 03 Oct 2021   Pseudo R-squ.:                  0.1331\n",
      "Time:                        14:26:18   Log-Likelihood:                -935.12\n",
      "converged:                       True   LL-Null:                       -1078.7\n",
      "Covariance Type:            nonrobust   LLR p-value:                 5.181e-51\n",
      "===============================================================================================================\n",
      "                                                  coef    std err          z      P>|z|      [0.025      0.975]\n",
      "---------------------------------------------------------------------------------------------------------------\n",
      "Intercept                                      -9.2740      0.882    -10.516      0.000     -11.002      -7.546\n",
      "education[T.High school/GED]                   -0.1053      0.217     -0.485      0.628      -0.531       0.321\n",
      "education[T.Some college/vocational school]    -0.1025      0.241     -0.425      0.671      -0.575       0.370\n",
      "education[T.Some high school]                   0.0610      0.202      0.302      0.762      -0.334       0.456\n",
      "male                                            0.5621      0.134      4.189      0.000       0.299       0.825\n",
      "age                                             0.0689      0.008      8.303      0.000       0.053       0.085\n",
      "currentSmoker                                   0.1539      0.189      0.816      0.415      -0.216       0.524\n",
      "cigsPerDay                                      0.0155      0.007      2.077      0.038       0.001       0.030\n",
      "BPMeds                                          0.1528      0.281      0.544      0.587      -0.398       0.704\n",
      "prevalentStroke                                 0.8209      0.570      1.441      0.150      -0.296       1.938\n",
      "prevalentHyp                                    0.2075      0.167      1.246      0.213      -0.119       0.534\n",
      "diabetes                                       -0.2975      0.395     -0.753      0.452      -1.072       0.477\n",
      "totChol                                         0.0020      0.001      1.445      0.148      -0.001       0.005\n",
      "sysBP                                           0.0181      0.005      3.900      0.000       0.009       0.027\n",
      "diaBP                                          -0.0045      0.008     -0.584      0.560      -0.020       0.011\n",
      "BMI                                             0.0136      0.016      0.867      0.386      -0.017       0.044\n",
      "heartRate                                      -0.0046      0.005     -0.888      0.374      -0.015       0.006\n",
      "glucose                                         0.0096      0.003      3.439      0.001       0.004       0.015\n",
      "===============================================================================================================\n"
     ]
    }
   ],
   "source": [
    "logreg1 = smf.logit(formula = \"TenYearCHD ~ male + age + education + currentSmoker + cigsPerDay + BPMeds + prevalentStroke + prevalentHyp + diabetes + totChol + sysBP + diaBP + BMI + heartRate + glucose\", \n",
    "                   data = fra_train).fit()\n",
    "print(logreg1.summary())"
   ]
  },
  {
   "cell_type": "markdown",
   "metadata": {},
   "source": [
    "The fitted logistic regresion model is $y = \\frac{1}{1+exp(-0.1053x_1 -0.1025x_2 + 0.0610x_3 + 0.5621x_4 + 0.0689x_5+ 0.1539x_6+0.0155x_7+0.1528x_8 + 0.8209x_9 + 0.2075x_{10} - 0.2975x_{11} + 0.0020x_{12} + 0.0181x_{13} -0.0045x_{14} + 0.0136x_{15}  -0.0046x_{16} + 0.0096x_{17}-9.2740)}$\n",
    "\n",
    "$y$: TenYearCHD\n",
    "\n",
    "$x_1$: education[T.High school/GED];\n",
    "$x_2$: education[T.Some college/vocational school];\n",
    "$x_3$: education[T.Some high school];\n",
    "\n",
    "$x_4$: male;\n",
    "$x_5$: age;\n",
    "$x_6$: currentSmoker;\n",
    "\n",
    "$x_7$: cigsPerDay;\n",
    "$x_8$: BPMeds;\n",
    "$x_9$: prevalentStroke;\n",
    "\n",
    "$x_{10}$: prevalentHyp;\n",
    "$x_{11}$: diabetes;\n",
    "$x_{12}$: totChol;\n",
    "\n",
    "$x_{13}$: sysBP;\n",
    "$x_{14}$: diaBP; \n",
    "$x_{15}$: BMI; \n",
    "\n",
    "$x_{16}$: heartRate;\n",
    "$x_{17}$: glucose.\n"
   ]
  },
  {
   "cell_type": "code",
   "execution_count": null,
   "metadata": {},
   "outputs": [],
   "source": []
  },
  {
   "cell_type": "markdown",
   "metadata": {},
   "source": [
    "## ii)"
   ]
  },
  {
   "cell_type": "markdown",
   "metadata": {},
   "source": [
    "The most important risk factors are male, age, cigsPerDay, sysBP, glucose. \n",
    "\n",
    "The P value for these variables are not larger than 0.05, so they have significant effects on TenYearCHD.\n",
    "\n",
    "The coeffiecient for 'male' is 0.5621, which means male are more likely to get CHD within the next ten years than female.\n"
   ]
  },
  {
   "cell_type": "markdown",
   "metadata": {},
   "source": [
    "## iii)"
   ]
  },
  {
   "cell_type": "markdown",
   "metadata": {},
   "source": [
    "From the decision tree, the expected cost with prescribed medication is 775,000 x 0.15p + 75,000 x (1-(0.15p)) and the expected cost with no prescribed medication is 700,000 x p. The breakeven point is 0.126. \n",
    "\n",
    "When p > 0.126, the expected cost with prescribed medication is lower than that with no prescribed medication.\n",
    "\n",
    "So p-= 0.126\n",
    "\n",
    "Prescribe medication: p > 0.126\n",
    "\n",
    "Not prescribe medication: p < 0.126"
   ]
  },
  {
   "cell_type": "markdown",
   "metadata": {},
   "source": [
    "## iv)\n"
   ]
  },
  {
   "cell_type": "code",
   "execution_count": 48,
   "metadata": {},
   "outputs": [
    {
     "name": "stdout",
     "output_type": "stream",
     "text": [
      "Confusion Matrix : \n",
      " [[569 354]\n",
      " [ 56 119]]\n"
     ]
    }
   ],
   "source": [
    "# Confusion Matrix\n",
    "from sklearn.metrics import confusion_matrix\n",
    "y_test = fra_test['TenYearCHD']\n",
    "y_prob = logreg1.predict(fra_test)\n",
    "y_pred = pd.Series([1 if x > 15/119 else 0 for x in y_prob], index=y_prob.index)\n",
    "\n",
    "cm = confusion_matrix(y_test, y_pred)\n",
    "print (\"Confusion Matrix : \\n\", cm) "
   ]
  },
  {
   "cell_type": "code",
   "execution_count": 59,
   "metadata": {},
   "outputs": [
    {
     "data": {
      "text/plain": [
       "(0.6266, 0.68, 0.3835)"
      ]
     },
     "execution_count": 59,
     "metadata": {},
     "output_type": "execute_result"
    }
   ],
   "source": [
    "accuracy = (569 +119)/(569+354+56+119)\n",
    "TPR = 119/(56+119)\n",
    "FPR = 354/(569+354)\n",
    "round(accuracy,4), TPR, round(FPR,4)"
   ]
  },
  {
   "cell_type": "markdown",
   "metadata": {},
   "source": [
    "accuracy = (true possitive + true negative) / (all the predictions) = 0.6266\n",
    "\n",
    "Accuracy means among all the predictions made by this logistic regression model, 62.66% of are the same with the actual numbers. \n",
    "\n",
    "TPR = true possitive / all possitive = true possitive / (true possitive + false negative) = 0.68\n",
    "\n",
    "TPR means 68% of possitive results can be predicted correctly and the others are predicted the false negative (should be possitive but predicted negative by the model).\n",
    "\n",
    "FPR = false possitive / all negative = false possitive / (false possitive + true negative) = 0.3835\n",
    "\n",
    "FPR means 38.35% of negative results can be predicted correctly and the others are predicted the false possitive (should be negative but predicted possitive by the model).\n"
   ]
  },
  {
   "cell_type": "markdown",
   "metadata": {},
   "source": [
    "## v)"
   ]
  },
  {
   "cell_type": "markdown",
   "metadata": {},
   "source": [
    "This assumption is not reasonable. After seeing their risks of developing CHD, some people may change their mind. Since the dataset was collected before the option of prescribing the medication was even considered, the actual result should be significantly different from this model."
   ]
  },
  {
   "cell_type": "markdown",
   "metadata": {},
   "source": [
    "## vi)"
   ]
  },
  {
   "cell_type": "code",
   "execution_count": 65,
   "metadata": {},
   "outputs": [
    {
     "name": "stdout",
     "output_type": "stream",
     "text": [
      "Confusion Matrix : \n",
      " [[923   0]\n",
      " [175   0]]\n"
     ]
    }
   ],
   "source": [
    "# let p = 0\n",
    "y_pred_0 = pd.Series([1 if x > 0.99 else 0 for x in y_prob], index=y_prob.index)\n",
    "\n",
    "cm_0 = confusion_matrix(y_test, y_pred_0)\n",
    "print (\"Confusion Matrix : \\n\", cm_0) "
   ]
  },
  {
   "cell_type": "code",
   "execution_count": 67,
   "metadata": {},
   "outputs": [
    {
     "data": {
      "text/plain": [
       "(0.8406193078324226, 0.0, 0.0, 178950.0, 693000.0)"
      ]
     },
     "execution_count": 67,
     "metadata": {},
     "output_type": "execute_result"
    }
   ],
   "source": [
    "accuracy_0 = 923/(923+175)\n",
    "TPR_0 = 0/(175+0)\n",
    "FPR_0 = 0/(923+0)\n",
    "eco_poss_0 = 0.15*0.99 *775000 + (1-0.15*0.99)*75000\n",
    "eco_fal_0 = 0.99*700000 + (1-0.99)*0\n",
    "accuracy_0, TPR_0, FPR_0,eco_poss_0,eco_fal_0"
   ]
  },
  {
   "cell_type": "markdown",
   "metadata": {},
   "source": [
    "Although the accuracy is higher and FPR is 0.0, the TPR is 0.0. So the model cannot predict well the risks of developing CHD.\n",
    "\n",
    "For those who accept medication, the economic cost per patient is $178950.0.\n",
    "\n",
    "For those who don't accept medication, the economic cost per patient is $693000.0."
   ]
  },
  {
   "cell_type": "markdown",
   "metadata": {},
   "source": [
    "## vii)"
   ]
  },
  {
   "cell_type": "code",
   "execution_count": 70,
   "metadata": {},
   "outputs": [
    {
     "data": {
      "text/plain": [
       "0.8744180449640621"
      ]
     },
     "execution_count": 70,
     "metadata": {},
     "output_type": "execute_result"
    }
   ],
   "source": [
    "P_5 = 1/(1+math.exp(-0.1053*0 -0.1025*1 + 0.0610*0 + 0.5621*0 + 0.0689*45+ 0.1539*1+0.0155*9+0.1528*1 + 0.8209*1 + 0.2075*0 - 0.2975*1 + 0.0020*220 + 0.0181*140 -0.0045*100 + 0.0136*33 -0.0046*69 + 0.0096*74-9.2740))\n",
    "P_5 \n",
    "\n"
   ]
  },
  {
   "cell_type": "code",
   "execution_count": 71,
   "metadata": {},
   "outputs": [
    {
     "data": {
      "text/plain": [
       "True"
      ]
     },
     "execution_count": 71,
     "metadata": {},
     "output_type": "execute_result"
    }
   ],
   "source": [
    "P_5 > 15/119"
   ]
  },
  {
   "cell_type": "markdown",
   "metadata": {},
   "source": [
    "The physician should prescribe the preventive medication for this patient."
   ]
  },
  {
   "cell_type": "markdown",
   "metadata": {},
   "source": [
    "# b)"
   ]
  },
  {
   "cell_type": "code",
   "execution_count": 72,
   "metadata": {},
   "outputs": [
    {
     "data": {
      "image/png": "[encoded data removed]",
      "text/plain": [
       "<Figure size 576x432 with 1 Axes>"
      ]
     },
     "metadata": {
      "needs_background": "light"
     },
     "output_type": "display_data"
    }
   ],
   "source": [
    "# ROC curves\n",
    "from sklearn.metrics import roc_curve, auc\n",
    "\n",
    "y_train = fra_train['TenYearCHD']\n",
    "x_train = fra_train.drop(['TenYearCHD'],axis = 1)\n",
    "\n",
    "y_test = fra_test['TenYearCHD']\n",
    "x_test = fra_test.drop(['TenYearCHD'],axis = 1)\n",
    "\n",
    "fpr, tpr, _ = roc_curve(y_test, y_prob)\n",
    "roc_auc = auc(fpr, tpr)\n",
    "\n",
    "plt.figure(figsize=(8, 6))\n",
    "plt.title('ROC Curve', fontsize=18)\n",
    "plt.xlabel('FPR', fontsize=16)\n",
    "plt.ylabel('TPR', fontsize=16)\n",
    "plt.xlim([-0.01, 1.00])\n",
    "plt.ylim([-0.01, 1.01])\n",
    "plt.plot(fpr, tpr, lw=3, label='Logistic Regression (area = {:0.2f})'.format(roc_auc))\n",
    "plt.plot([0, 1], [0, 1], color='navy', lw=3, linestyle='--')\n",
    "plt.legend(loc='lower right', fontsize=14)\n",
    "plt.show()\n"
   ]
  },
  {
   "cell_type": "markdown",
   "metadata": {},
   "source": [
    "AUC measures the model’s discriminative ability. The maximum AUC is 1. \n",
    "\n",
    "Given a randomly selected positive observation(patients who are at high risks of developing CHD within 10 years ) and a randomly selected negative observation, AUC is the likelihood that the model would correctly differentiate which is which.\n",
    "\n",
    "In this case, AUC of our model is 0.7046958675127689, which is the likelihood that the model would assign a higher CHD possibility to patients who are at high risks of developing CHD.\n",
    "\n",
    "AUC is high, which indicates this model is efficient."
   ]
  },
  {
   "cell_type": "code",
   "execution_count": 74,
   "metadata": {},
   "outputs": [
    {
     "data": {
      "text/plain": [
       "0.7046958675127689"
      ]
     },
     "execution_count": 74,
     "metadata": {},
     "output_type": "execute_result"
    }
   ],
   "source": [
    "# the area under the curve (AUC)\n",
    "roc_auc"
   ]
  },
  {
   "cell_type": "markdown",
   "metadata": {},
   "source": [
    "# c)"
   ]
  },
  {
   "cell_type": "markdown",
   "metadata": {},
   "source": [
    "The co-payment for medication is C. \n",
    "\n",
    "The cost for decreased quality of life if people develop CHD is $500,000.\n",
    "\n",
    "Let (C + 500,000) * 0.15p- + C * (1-(0.15p-)) = 500,000 * p-\n",
    "\n",
    "p- = 15/119\n",
    "\n",
    "Then C = $53571.43"
   ]
  },
  {
   "cell_type": "markdown",
   "metadata": {},
   "source": [
    "# d)"
   ]
  },
  {
   "cell_type": "markdown",
   "metadata": {},
   "source": [
    "The patients may not want to know the result of this analysis. So, we should respect their rights to know or not to know the results.\n",
    "\n",
    "Also, patients provide lots of personal data which should only be used for this analysis. So we should protect their data carefully and prevent data leakage.\n"
   ]
  }
 ],
 "metadata": {
  "kernelspec": {
   "display_name": "Python 3",
   "language": "python",
   "name": "python3"
  },
  "language_info": {
   "codemirror_mode": {
    "name": "ipython",
    "version": 3
   },
   "file_extension": ".py",
   "mimetype": "text/x-python",
   "name": "python",
   "nbconvert_exporter": "python",
   "pygments_lexer": "ipython3",
   "version": "3.7.4"
  }
 },
 "nbformat": 4,
 "nbformat_minor": 2
}
